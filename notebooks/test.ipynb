{
 "cells": [
  {
   "cell_type": "code",
   "execution_count": 1,
   "metadata": {},
   "outputs": [],
   "source": [
    "import os\n",
    "\n",
    "if os.getcwd().endswith(\"notebooks\"):\n",
    "    os.chdir(\"..\")"
   ]
  },
  {
   "cell_type": "code",
   "execution_count": 2,
   "metadata": {},
   "outputs": [
    {
     "data": {
      "text/plain": [
       "Config(dataset=DatasetConfig(name='aptos_lesions', root_aptos='data/aptos', root_ddr='data/DDR', split=(0.8, 0.2), num_keypoints=None, sift_sigma=None, distance_sigma_px=10.0, which_features='encoder', feature_layer=4, features_reduction='mean', reinterpolation=(512, 512)), model=DRGNetModelConfig(name='DRGNet', num_classes=5, optimizer=OptimizerConfig(lr=0.023809590039981624, weight_decay=0.03128685798976109, algo=<OptimizerAlgo.ADAMW: 'adamw'>, loss_type=<LossType.CE: 'CE'>, class_weights=None), input_features=1, gnn_hidden_dim=128, num_layers=2, sortpool_k=74, conv_hidden_dims=(64, 64), compile=False), batch_size=5000, max_epochs=500, seed=42, project_name='Aptos-GNN', tag='LESIONS')"
      ]
     },
     "execution_count": 2,
     "metadata": {},
     "output_type": "execute_result"
    }
   ],
   "source": [
    "from drgnet.utils import get_config\n",
    "\n",
    "config = get_config(\"configs/ddr_aptos_lesions.py\", \"experiment_config\")\n",
    "config"
   ]
  },
  {
   "cell_type": "code",
   "execution_count": 4,
   "metadata": {},
   "outputs": [
    {
     "data": {
      "text/plain": [
       "True"
      ]
     },
     "execution_count": 4,
     "metadata": {},
     "output_type": "execute_result"
    }
   ],
   "source": [
    "from experiment_config import cfg\n",
    "cfg == config"
   ]
  }
 ],
 "metadata": {
  "kernelspec": {
   "display_name": "base",
   "language": "python",
   "name": "python3"
  },
  "language_info": {
   "codemirror_mode": {
    "name": "ipython",
    "version": 3
   },
   "file_extension": ".py",
   "mimetype": "text/x-python",
   "name": "python",
   "nbconvert_exporter": "python",
   "pygments_lexer": "ipython3",
   "version": "3.10.13"
  }
 },
 "nbformat": 4,
 "nbformat_minor": 2
}
